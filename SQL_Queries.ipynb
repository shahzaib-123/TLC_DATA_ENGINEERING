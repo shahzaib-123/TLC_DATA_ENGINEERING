{
 "cells": [
  {
   "cell_type": "code",
   "execution_count": 1,
   "id": "084c87d7-5205-4ff9-9167-ffeeb0a1199f",
   "metadata": {},
   "outputs": [],
   "source": [
    "import requests\n",
    "import pandas as pd\n",
    "import sqlite3"
   ]
  },
  {
   "cell_type": "code",
   "execution_count": 2,
   "id": "5ea1af81-e3a3-442e-b6a0-319424f40d35",
   "metadata": {},
   "outputs": [],
   "source": [
    "conn = sqlite3.connect('tripdata.db')"
   ]
  },
  {
   "cell_type": "code",
   "execution_count": 3,
   "id": "2b2c8ebd-d2fe-4f7d-8a3e-e0e7c9692dc6",
   "metadata": {},
   "outputs": [
    {
     "name": "stdout",
     "output_type": "stream",
     "text": [
      "Average Distance Driven by Yellow and Green Taxis Per Hour\n",
      "   pickup_hour  average_distance\n",
      "0           00          0.400000\n",
      "1           01          1.300000\n",
      "2           07          0.100000\n",
      "3           09          2.200000\n",
      "4           11          3.100000\n",
      "5           13         18.300000\n",
      "6           14         10.600000\n",
      "7           15          1.000000\n",
      "8           16          0.000000\n",
      "9           17          1.050000\n",
      "10          19          8.633333\n",
      "11          20          1.200000\n",
      "12          21          1.750000\n",
      "13          23          1.050000\n"
     ]
    }
   ],
   "source": [
    "query_avg_distance_per_hour = \"\"\"\n",
    "SELECT\n",
    "    pickup_hour,\n",
    "    AVG(trip_distance) AS average_distance\n",
    "FROM (\n",
    "    SELECT\n",
    "        strftime('%H', tpep_pickup_datetime) AS pickup_hour,\n",
    "        trip_distance\n",
    "    FROM yellow_tripdata\n",
    "    UNION ALL\n",
    "    SELECT\n",
    "        strftime('%H', lpep_pickup_datetime) AS pickup_hour,\n",
    "        trip_distance\n",
    "    FROM green_tripdata\n",
    ") AS combined_data\n",
    "GROUP BY\n",
    "    pickup_hour\n",
    "ORDER BY\n",
    "    pickup_hour;\n",
    "\"\"\"\n",
    "\n",
    "# Execute the query and fetch results\n",
    "df_avg_distance_per_hour = pd.read_sql(query_avg_distance_per_hour, conn)\n",
    "print(\"Average Distance Driven by Yellow and Green Taxis Per Hour\")\n",
    "print(df_avg_distance_per_hour)"
   ]
  },
  {
   "cell_type": "code",
   "execution_count": 4,
   "id": "2cbec1d6-63e8-4fdc-808e-aa9694c819d0",
   "metadata": {
    "scrolled": true
   },
   "outputs": [
    {
     "name": "stdout",
     "output_type": "stream",
     "text": [
      "Day of the Week in 2019 and 2020 with the Lowest Number of Single Rider Trips\n",
      "  pickup_day_of_week  single_rider_trips\n",
      "0                  2                   1\n"
     ]
    }
   ],
   "source": [
    "query_lowest_single_rider_trips = \"\"\"\n",
    "SELECT\n",
    "    pickup_day_of_week,\n",
    "    COUNT(*) AS single_rider_trips\n",
    "FROM (\n",
    "    SELECT\n",
    "        strftime('%w', tpep_pickup_datetime) AS pickup_day_of_week,\n",
    "        passenger_count\n",
    "    FROM yellow_tripdata\n",
    "    WHERE passenger_count = 1 AND strftime('%Y', tpep_pickup_datetime) IN ('2019', '2020')\n",
    "    UNION ALL\n",
    "    SELECT\n",
    "        strftime('%w', lpep_pickup_datetime) AS pickup_day_of_week,\n",
    "        passenger_count\n",
    "    FROM green_tripdata\n",
    "    WHERE passenger_count = 1 AND strftime('%Y', lpep_pickup_datetime) IN ('2019', '2020')\n",
    ") AS combined_data\n",
    "GROUP BY\n",
    "    pickup_day_of_week\n",
    "ORDER BY\n",
    "    single_rider_trips\n",
    "LIMIT 1;\n",
    "\"\"\"\n",
    "\n",
    "# Execute the query and fetch results\n",
    "df_lowest_single_rider_trips = pd.read_sql(query_lowest_single_rider_trips, conn)\n",
    "print(\"Day of the Week in 2019 and 2020 with the Lowest Number of Single Rider Trips\")\n",
    "print(df_lowest_single_rider_trips)"
   ]
  },
  {
   "cell_type": "code",
   "execution_count": 5,
   "id": "6f04952e-04b5-4f03-9aa9-6dd52e12cf9d",
   "metadata": {},
   "outputs": [
    {
     "name": "stdout",
     "output_type": "stream",
     "text": [
      "Top 3 Busiest Hours\n",
      "  pickup_hour  number_of_trips\n",
      "0          19                3\n",
      "1          23                2\n",
      "2          21                2\n"
     ]
    }
   ],
   "source": [
    "query_top_3_busiest_hours = \"\"\"\n",
    "SELECT\n",
    "    pickup_hour,\n",
    "    COUNT(*) AS number_of_trips\n",
    "FROM (\n",
    "    SELECT\n",
    "        strftime('%H', tpep_pickup_datetime) AS pickup_hour\n",
    "    FROM yellow_tripdata\n",
    "    UNION ALL\n",
    "    SELECT\n",
    "        strftime('%H', lpep_pickup_datetime) AS pickup_hour\n",
    "    FROM green_tripdata\n",
    ") AS combined_data\n",
    "GROUP BY\n",
    "    pickup_hour\n",
    "ORDER BY\n",
    "    number_of_trips DESC\n",
    "LIMIT 3;\n",
    "\"\"\"\n",
    "df_top_3_busiest_hours = pd.read_sql(query_top_3_busiest_hours, conn)\n",
    "print(\"Top 3 Busiest Hours\")\n",
    "print(df_top_3_busiest_hours)"
   ]
  },
  {
   "cell_type": "code",
   "execution_count": null,
   "id": "c85678e3-c618-4733-af54-c0fc7963b9a2",
   "metadata": {},
   "outputs": [],
   "source": []
  }
 ],
 "metadata": {
  "kernelspec": {
   "display_name": "Python 3 (ipykernel)",
   "language": "python",
   "name": "python3"
  },
  "language_info": {
   "codemirror_mode": {
    "name": "ipython",
    "version": 3
   },
   "file_extension": ".py",
   "mimetype": "text/x-python",
   "name": "python",
   "nbconvert_exporter": "python",
   "pygments_lexer": "ipython3",
   "version": "3.11.5"
  }
 },
 "nbformat": 4,
 "nbformat_minor": 5
}
